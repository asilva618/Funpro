{
  "nbformat": 4,
  "nbformat_minor": 0,
  "metadata": {
    "colab": {
      "provenance": []
    },
    "kernelspec": {
      "name": "python3",
      "display_name": "Python 3"
    },
    "language_info": {
      "name": "python"
    }
  },
  "cells": [
    {
      "cell_type": "markdown",
      "source": [
        "##Ejercicios e-conective\n",
        "- Juan David Jimenez Gualdron\n",
        "- Maria Jose Gonzalez Rincon\n",
        "- Alvaro Silva\n"
      ],
      "metadata": {
        "id": "Z4HPR3Vt4o7t"
      }
    },
    {
      "cell_type": "code",
      "execution_count": null,
      "metadata": {
        "colab": {
          "base_uri": "https://localhost:8080/"
        },
        "id": "Ub01QxnSuxN9",
        "outputId": "7cff9002-d15a-4264-bc66-be8da6df99ae"
      },
      "outputs": [
        {
          "output_type": "stream",
          "name": "stdout",
          "text": [
            "Ingrese el sueldo del empleado: 900\n",
            "1035.0\n"
          ]
        }
      ],
      "source": [
        "sueldo=int(input(\"Ingrese el sueldo del empleado: \"))\n",
        "if sueldo <= 1000:\n",
        "  sueldo=sueldo+(sueldo*0.15)\n",
        "else:\n",
        "  sueldo=sueldo+(sueldo*0.12)\n",
        "print(sueldo)"
      ]
    },
    {
      "cell_type": "code",
      "source": [
        "cal=float(input(\"Ingrese la calificacion: \"))\n",
        "if cal > 3.2:\n",
        "  print(\"Aprobó\")\n",
        "else:\n",
        "  print(\"No Aprobó\")"
      ],
      "metadata": {
        "colab": {
          "base_uri": "https://localhost:8080/"
        },
        "id": "aHbMFVlky4-R",
        "outputId": "73818a05-9571-4bf8-ad4c-f23c354ff521"
      },
      "execution_count": null,
      "outputs": [
        {
          "output_type": "stream",
          "name": "stdout",
          "text": [
            "Ingrese la calificacion: 5.0\n",
            "Aprobó\n"
          ]
        }
      ]
    },
    {
      "cell_type": "code",
      "source": [],
      "metadata": {
        "id": "kw3FSmmT5QWd"
      },
      "execution_count": null,
      "outputs": []
    }
  ]
}